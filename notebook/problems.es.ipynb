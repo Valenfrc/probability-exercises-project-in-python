{
 "cells": [
  {
   "cell_type": "markdown",
   "id": "a41f3622",
   "metadata": {},
   "source": [
    "# Ejercicios de probabilidad"
   ]
  },
  {
   "cell_type": "markdown",
   "id": "a6bdbd89",
   "metadata": {},
   "source": [
    "## Ejercicio 1 \n",
    "\n",
    "Dos dados se lanzan una vez y se observa el total obtenido. Usa una simulación para encontrar la probabilidad estimada de que la puntuación sea mayor a 7 o un número par. Una simulación es una repetición del mismo experimento multiples veces para observar su comportamiento:\n",
    "\n",
    "- Ejecuta el experimento 1000 veces (lanza 2 dados 1000 veces, y suma el número de ambos dados).\n",
    "- Lleva ua cuenta de los números y las veces que la suma fue mayor a 7 o un número par.\n",
    "- Divide el número del paso 2 entre el número de iteraciones(1000)."
   ]
  },
  {
   "cell_type": "code",
   "execution_count": 1,
   "id": "8939d892",
   "metadata": {},
   "outputs": [
    {
     "name": "stdout",
     "output_type": "stream",
     "text": [
      "El resultado es 0.815\n"
     ]
    }
   ],
   "source": [
    "import numpy as np\n",
    "import random\n",
    "#Ejecutando experimento 1000 veces simulación de lanzar 2 dados y sumar el resultado.\n",
    "\n",
    "trials = 1000\n",
    "contador = 0\n",
    "\n",
    "for _ in range(trials):\n",
    "    dado_1 =  random.randint(1,6)\n",
    "    dado_2 = random.randint(1,6)\n",
    "    suma = dado_1 + dado_2\n",
    "    if suma >= 7 or suma%2 == 0:\n",
    "        #print(dado_1, dado_2, suma) # Ésta linea de código es para corroborar que la simulación y el contador funcionan correctamente.\n",
    "        contador += 1 \n",
    "\n",
    "print(f\"El resultado es {contador/trials}\")\n",
    "\n"
   ]
  },
  {
   "cell_type": "markdown",
   "id": "55732bca",
   "metadata": {},
   "source": [
    "## Ejercicio 2\n",
    "\n",
    "Una caja contiene 10 bolas blancas, 20 bolas rojas y 30 bolas verdes. Si tomamos 5 bolas de la caja reemplazándolas (tomando una bola, anotando el color y luego regresandola a la caja). Queremos saber la probabilidad de:\n",
    "\n",
    "1. Tomar 3 blancas y 2 rojas.\n",
    "2. Toas todas del mismo color.\n",
    "\n",
    "Ejecuta el experimento 1000 veces y calcula las probabilidades que mencionadas."
   ]
  },
  {
   "cell_type": "code",
   "execution_count": 2,
   "id": "9df54e2d",
   "metadata": {},
   "outputs": [
    {
     "name": "stdout",
     "output_type": "stream",
     "text": [
      "{0: 'White', 1: 'White', 2: 'White', 3: 'White', 4: 'White', 5: 'White', 6: 'White', 7: 'White', 8: 'White', 9: 'White', 10: 'Red', 11: 'Red', 12: 'Red', 13: 'Red', 14: 'Red', 15: 'Red', 16: 'Red', 17: 'Red', 18: 'Red', 19: 'Red', 20: 'Red', 21: 'Red', 22: 'Red', 23: 'Red', 24: 'Red', 25: 'Red', 26: 'Red', 27: 'Red', 28: 'Red', 29: 'Red', 30: 'Green', 31: 'Green', 32: 'Green', 33: 'Green', 34: 'Green', 35: 'Green', 36: 'Green', 37: 'Green', 38: 'Green', 39: 'Green', 40: 'Green', 41: 'Green', 42: 'Green', 43: 'Green', 44: 'Green', 45: 'Green', 46: 'Green', 47: 'Green', 48: 'Green', 49: 'Green', 50: 'Green', 51: 'Green', 52: 'Green', 53: 'Green', 54: 'Green', 55: 'Green', 56: 'Green', 57: 'Green', 58: 'Green', 59: 'Green'}\n"
     ]
    }
   ],
   "source": [
    "# Create the box of balls\n",
    "ball_box = {}\n",
    "for i in range(60):\n",
    "    if i < 10:\n",
    "        ball_box[i] = \"White\"\n",
    "    elif (i > 9) and (i < 30):\n",
    "        ball_box[i] = \"Red\"\n",
    "    else:\n",
    "        ball_box[i] = \"Green\"\n",
    "\n",
    "print(ball_box)"
   ]
  },
  {
   "cell_type": "code",
   "execution_count": 92,
   "id": "01cd71e7",
   "metadata": {},
   "outputs": [
    {
     "name": "stdout",
     "output_type": "stream",
     "text": [
      "0.002\n",
      "0.034\n"
     ]
    }
   ],
   "source": [
    "#3blancas y 2 rojas\n",
    "\n",
    "trials=1000\n",
    "contador1=0\n",
    "contador2=0\n",
    "for i in range(trials):\n",
    "   colors=[]\n",
    "   for i in range(5):\n",
    "      colors.append(ball_box[np.random.randint(0,59)])\n",
    "\n",
    "   colors=np.array(colors)\n",
    "\n",
    "   bolas_blancas=sum(colors=='White')\n",
    "   bolas_rojas=sum(colors=='Red')\n",
    "   bolas_verdes=sum(colors=='Green')\n",
    "\n",
    "   if (bolas_blancas==3) and (bolas_rojas==2):\n",
    "         contador1+=1\n",
    "   if (bolas_blancas==5) or (bolas_rojas==5) or (bolas_verdes==5):\n",
    "         contador2+=1\n",
    "print(contador1/trials)\n",
    "print(contador2/trials)\n",
    "         "
   ]
  },
  {
   "cell_type": "code",
   "execution_count": 72,
   "id": "7888732c",
   "metadata": {},
   "outputs": [],
   "source": [
    "colores=[]"
   ]
  },
  {
   "cell_type": "code",
   "execution_count": 81,
   "id": "6616611c",
   "metadata": {},
   "outputs": [
    {
     "data": {
      "text/plain": [
       "['Green', 'Red', 'White', 'Green', 'Red', 'Green', 'Red', 'Green', 'Red']"
      ]
     },
     "execution_count": 81,
     "metadata": {},
     "output_type": "execute_result"
    }
   ],
   "source": [
    "\n",
    "colores.append(ball_box[np.random.randint(0,59)])\n",
    "colores\n"
   ]
  }
 ],
 "metadata": {
  "kernelspec": {
   "display_name": "Python 3",
   "language": "python",
   "name": "python3"
  },
  "language_info": {
   "codemirror_mode": {
    "name": "ipython",
    "version": 3
   },
   "file_extension": ".py",
   "mimetype": "text/x-python",
   "name": "python",
   "nbconvert_exporter": "python",
   "pygments_lexer": "ipython3",
   "version": "3.11.4"
  }
 },
 "nbformat": 4,
 "nbformat_minor": 5
}
